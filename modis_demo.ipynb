{
 "cells": [
  {
   "cell_type": "markdown",
   "id": "f96d3aae",
   "metadata": {},
   "source": [
    "## Moderate Resolution Imaging Spectroradiometer (MODIS) Demo"
   ]
  },
  {
   "cell_type": "code",
   "execution_count": null,
   "id": "b3631f43",
   "metadata": {},
   "outputs": [],
   "source": [
    "# Ignore warning and debug messages\n",
    "# NB: If things go wrong, you can turn the debugger on and turn the warnings filter off.\n",
    "import warnings\n",
    "warnings.catch_warnings()\n",
    "warnings.simplefilter(\"ignore\")\n",
    "from satpy.utils import debug_off; debug_off()\n",
    "\n",
    "\n",
    "from satpy import find_files_and_readers\n",
    "from datetime import datetime\n",
    "\n",
    "\n",
    "path_modis = './data/modis/'\n",
    "files = find_files_and_readers(start_time=datetime(2023, 4, 17, 22, 50), \n",
    "                               end_time=datetime(2023, 4, 17, 22, 55),\n",
    "                               reader='modis_l1b',\n",
    "                               base_dir=path_modis)\n",
    "\n",
    "# Check the list of files\n",
    "files"
   ]
  },
  {
   "cell_type": "code",
   "execution_count": null,
   "id": "3e9265da",
   "metadata": {},
   "outputs": [],
   "source": [
    "from satpy import Scene\n",
    "\n",
    "scn = Scene(files)\n",
    "scn.available_dataset_names()"
   ]
  },
  {
   "cell_type": "code",
   "execution_count": null,
   "id": "5648f6b6",
   "metadata": {},
   "outputs": [],
   "source": [
    "scn.load(scn.available_dataset_names())"
   ]
  },
  {
   "cell_type": "code",
   "execution_count": null,
   "id": "bb92f9d8",
   "metadata": {},
   "outputs": [],
   "source": [
    "scn.show('1')"
   ]
  },
  {
   "cell_type": "code",
   "execution_count": null,
   "id": "24228f65",
   "metadata": {},
   "outputs": [],
   "source": [
    "scn.available_composite_names()"
   ]
  },
  {
   "cell_type": "code",
   "execution_count": null,
   "id": "ac40b940",
   "metadata": {},
   "outputs": [],
   "source": [
    "print(scn.finest_area())"
   ]
  },
  {
   "cell_type": "code",
   "execution_count": null,
   "id": "260e0ae3",
   "metadata": {},
   "outputs": [],
   "source": [
    "scn.load(['true_color'])\n",
    "lcn = scn.resample(scn.finest_area())\n",
    "lcn.show('true_color')"
   ]
  },
  {
   "cell_type": "code",
   "execution_count": null,
   "id": "651ebf6b",
   "metadata": {},
   "outputs": [],
   "source": [
    "from pyresample import create_area_def\n",
    "\n",
    "# Let's look at a region that covers Macquarie Isalnd\n",
    "\n",
    "# extent = [lonmin, lonmax, latmin, latmax]\n",
    "# extent = [156, 161, -57, -53]\n",
    "extent = [158.6, 159.2, -54.8, -54.4]\n",
    "\n",
    "area_def = create_area_def('Macquarie Island', \"+proj=eqc\", units=\"degrees\",\n",
    "                           area_extent=(extent[0], extent[2], extent[1], extent[3]), resolution=0.0001)\n",
    "# Resample to custom area def\n",
    "scn.load(['true_color_crefl'])\n",
    "lcn = scn.resample(area_def)\n",
    "lcn.show('true_color_crefl')"
   ]
  },
  {
   "cell_type": "code",
   "execution_count": null,
   "id": "ff56e042",
   "metadata": {},
   "outputs": [],
   "source": []
  }
 ],
 "metadata": {
  "kernelspec": {
   "display_name": "Python 3 (ipykernel)",
   "language": "python",
   "name": "python3"
  },
  "language_info": {
   "codemirror_mode": {
    "name": "ipython",
    "version": 3
   },
   "file_extension": ".py",
   "mimetype": "text/x-python",
   "name": "python",
   "nbconvert_exporter": "python",
   "pygments_lexer": "ipython3",
   "version": "3.11.3"
  }
 },
 "nbformat": 4,
 "nbformat_minor": 5
}
