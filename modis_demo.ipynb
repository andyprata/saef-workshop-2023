{
 "cells": [
  {
   "cell_type": "markdown",
   "id": "f96d3aae",
   "metadata": {},
   "source": [
    "## Moderate Resolution Imaging Spectroradiometer (MODIS) Demo"
   ]
  },
  {
   "cell_type": "markdown",
   "id": "3a512e1f",
   "metadata": {},
   "source": [
    "In this tutorial, we will take a look at some MODIS data. Details of the instrument are outlined here: https://modis.gsfc.nasa.gov/about/"
   ]
  },
  {
   "cell_type": "markdown",
   "id": "f936b6c4",
   "metadata": {},
   "source": [
    "To read in the correct data files, we can use SatPy's `find_files_and_readers` helper function."
   ]
  },
  {
   "cell_type": "code",
   "execution_count": null,
   "id": "b3631f43",
   "metadata": {},
   "outputs": [],
   "source": [
    "# Ignore warning and debug messages\n",
    "# NB: If things go wrong, you can turn the debugger on and turn the warnings filter off.\n",
    "import warnings\n",
    "warnings.catch_warnings()\n",
    "warnings.simplefilter(\"ignore\")\n",
    "from satpy.utils import debug_off; debug_off()\n",
    "\n",
    "\n",
    "from satpy import find_files_and_readers\n",
    "from datetime import datetime\n",
    "\n",
    "\n",
    "path_modis = './data/modis/'\n",
    "files = find_files_and_readers(start_time=datetime(2023, 4, 17, 22, 50), \n",
    "                               end_time=datetime(2023, 4, 17, 22, 55),\n",
    "                               reader='modis_l1b',\n",
    "                               base_dir=path_modis)"
   ]
  },
  {
   "cell_type": "markdown",
   "id": "98f8807e",
   "metadata": {},
   "source": [
    "We can check if the files list is correct by printing it out the dictionary"
   ]
  },
  {
   "cell_type": "code",
   "execution_count": null,
   "id": "c66ca558",
   "metadata": {},
   "outputs": [],
   "source": [
    "print(files)"
   ]
  },
  {
   "cell_type": "markdown",
   "id": "382fc691",
   "metadata": {},
   "source": [
    "To get the most out of MODIS data, you need to download 4 files per granule (more details here: https://mcst.gsfc.nasa.gov/sites/default/files/file_attachments/M1054.pdf). The filenames can be interpreted as:\n",
    "\n",
    "| Terra    | Aqua     | Description |\n",
    "|----------|----------|-------------|\n",
    "| MOD02QKM | MYD02QKM | Calibrated Earth View data at 250m resolution.  |\n",
    "| MOD02HKM | MYD02HKM | Calibrated Earth View data at 500m resolution, including the 250m resolution bands aggregated to 500m resolution. |\n",
    "| MOD021KM | MYD021KM | Calibrated Earth View data at 1km resolution, including the 250m and 500m resolution bands aggregated to 1km resolution. |\n",
    "| MOD03    | MYD03    | Geolocation information. |\n",
    "\n",
    "The filenames contain other information regarding the date and time but it can be difficult to interpret. SatPy allows you to view the metadata in a more friendly format."
   ]
  },
  {
   "cell_type": "markdown",
   "id": "892cc127",
   "metadata": {},
   "source": [
    "The first step when reading in data with SatPy is to load the file list/dictionary into a `Scene` object as follows"
   ]
  },
  {
   "cell_type": "code",
   "execution_count": null,
   "id": "99d1d0e7",
   "metadata": {},
   "outputs": [],
   "source": [
    "from satpy import Scene\n",
    "\n",
    "scn = Scene(files)"
   ]
  },
  {
   "cell_type": "markdown",
   "id": "75544b0f",
   "metadata": {},
   "source": [
    "We can now view which bands are available with various methods that are attached to the `Scene` object."
   ]
  },
  {
   "cell_type": "code",
   "execution_count": null,
   "id": "3e9265da",
   "metadata": {},
   "outputs": [],
   "source": [
    "scn.available_dataset_names()"
   ]
  },
  {
   "cell_type": "markdown",
   "id": "8621ee94",
   "metadata": {},
   "source": [
    "From here, we load into memory the satellite datasets of interest. Let's say we want to load band 1. Then we would do:"
   ]
  },
  {
   "cell_type": "code",
   "execution_count": null,
   "id": "5648f6b6",
   "metadata": {},
   "outputs": [],
   "source": [
    "scn.load(['1'])  # note that SatPy will complain if we don't load the dataset as a list of strings."
   ]
  },
  {
   "cell_type": "markdown",
   "id": "109438be",
   "metadata": {},
   "source": [
    "We can now view the metadata pertaining to band 1 like so"
   ]
  },
  {
   "cell_type": "code",
   "execution_count": null,
   "id": "c28930d5",
   "metadata": {},
   "outputs": [],
   "source": [
    "print(scn)"
   ]
  },
  {
   "cell_type": "markdown",
   "id": "3e599425",
   "metadata": {},
   "source": [
    "If we want to see the unprojected image, we can simply do:"
   ]
  },
  {
   "cell_type": "code",
   "execution_count": null,
   "id": "bb92f9d8",
   "metadata": {},
   "outputs": [],
   "source": [
    "scn.show('1')"
   ]
  },
  {
   "cell_type": "markdown",
   "id": "5aa08325",
   "metadata": {},
   "source": [
    "By default SatPy will display the most sensible calibration (e.g. reflectances for visible channels, brightness temperatures for thermal channels) as a grey scale image. If we want to make a 'pretty picture', we need to create an image composite. To see which composites are available for MODIS we can do:"
   ]
  },
  {
   "cell_type": "code",
   "execution_count": null,
   "id": "42679f5c",
   "metadata": {},
   "outputs": [],
   "source": [
    "scn.available_composite_names()"
   ]
  },
  {
   "cell_type": "markdown",
   "id": "6f70b237",
   "metadata": {},
   "source": [
    "Let's run the simplest of the true color options which is the `true_color_uncorrected` composite. Now, before we do this we must first resample the Scene object. This is because not all MODIS channels have the same spatial resolution. To resample the data, we can use the `scn.finest_area()` method."
   ]
  },
  {
   "cell_type": "code",
   "execution_count": null,
   "id": "be45c24e",
   "metadata": {},
   "outputs": [],
   "source": [
    "print(scn.finest_area())"
   ]
  },
  {
   "cell_type": "markdown",
   "id": "54953aca",
   "metadata": {},
   "source": [
    "This essentially returns the information that is needed to reproject the coarser resolution bands to the finest resolution bands, which in this case is 250 m. To resample the bands, we do:"
   ]
  },
  {
   "cell_type": "code",
   "execution_count": null,
   "id": "3f1fabc6",
   "metadata": {},
   "outputs": [],
   "source": [
    "# First, we load the desired composite using our Scene object\n",
    "scn.load(['true_color_uncorrected'])\n",
    "# Second, we resmaple the Scene object so that all required bands have the same dimensions (resolution)\n",
    "lcn = scn.resample(scn.finest_area())  # Here I've used lcn as short-hand for 'local scene'.\n",
    "# Third, we now can view the resampled composite like so:\n",
    "lcn.show('true_color_uncorrected')"
   ]
  },
  {
   "cell_type": "markdown",
   "id": "dfd29db9",
   "metadata": {},
   "source": [
    "If we wanted to save the dataset to a geotiff file we can use the writers method `.save_dataset()` method."
   ]
  },
  {
   "cell_type": "code",
   "execution_count": null,
   "id": "260e0ae3",
   "metadata": {},
   "outputs": [],
   "source": [
    "lcn.save_dataset('true_color_uncorrected', filename='./data/geotiff/modis.tif')"
   ]
  },
  {
   "cell_type": "markdown",
   "id": "f1a62d3b",
   "metadata": {},
   "source": [
    "Finally, let's say we're interested in a particular region, like Macquarie Island. Often we only know the geographic (latitude/longitude) coordinates. To resample to an area of interest, we can use the pyresample module like so:"
   ]
  },
  {
   "cell_type": "code",
   "execution_count": null,
   "id": "651ebf6b",
   "metadata": {},
   "outputs": [],
   "source": [
    "from pyresample import create_area_def\n",
    "\n",
    "# Let's look at a region that covers Macquarie Isalnd\n",
    "# extent = [lonmin, lonmax, latmin, latmax]\n",
    "extent = [158.6, 159.2, -54.8, -54.4]\n",
    "area_def = create_area_def('Macquarie Island', \"+proj=eqc\", units=\"degrees\",\n",
    "                           area_extent=(extent[0], extent[2], extent[1], extent[3]), resolution=0.0001)"
   ]
  },
  {
   "cell_type": "markdown",
   "id": "8596bd34",
   "metadata": {},
   "source": [
    "This creates an area definition object, which contains information on the projection that we want. Pyresample uses the PROJ conventions for selecting geographic projections (more info here: https://proj.org/). To see what is contained in the `area_def` object we can print it out"
   ]
  },
  {
   "cell_type": "code",
   "execution_count": null,
   "id": "593bf7e6",
   "metadata": {},
   "outputs": [],
   "source": [
    "print(area_def)"
   ]
  },
  {
   "cell_type": "markdown",
   "id": "014704e7",
   "metadata": {},
   "source": [
    "To resample to our custom area, we simply follow the producure that we used before:"
   ]
  },
  {
   "cell_type": "code",
   "execution_count": null,
   "id": "ff56e042",
   "metadata": {},
   "outputs": [],
   "source": [
    "# Resample to custom area def\n",
    "scn.load(['true_color_crefl'])  # NB: here I use a true color composite which includes an atmospheric correction.\n",
    "lcn = scn.resample(area_def)\n",
    "lcn.show('true_color_crefl')"
   ]
  }
 ],
 "metadata": {
  "kernelspec": {
   "display_name": "Python 3 (ipykernel)",
   "language": "python",
   "name": "python3"
  },
  "language_info": {
   "codemirror_mode": {
    "name": "ipython",
    "version": 3
   },
   "file_extension": ".py",
   "mimetype": "text/x-python",
   "name": "python",
   "nbconvert_exporter": "python",
   "pygments_lexer": "ipython3",
   "version": "3.11.3"
  }
 },
 "nbformat": 4,
 "nbformat_minor": 5
}
