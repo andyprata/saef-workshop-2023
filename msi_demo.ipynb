{
 "cells": [
  {
   "cell_type": "markdown",
   "id": "27b74b86",
   "metadata": {},
   "source": [
    "## Sentinel-2 Multi-Spectral Imager (MSI) Demo"
   ]
  },
  {
   "cell_type": "markdown",
   "id": "b1ed40fb",
   "metadata": {},
   "source": [
    "In this tutorial, we will look at MSI data using SatPy. More information about the instrument can be found here: https://sentinels.copernicus.eu/web/sentinel/technical-guides/sentinel-2-msi/msi-instrument"
   ]
  },
  {
   "cell_type": "code",
   "execution_count": 1,
   "id": "259f7b6b",
   "metadata": {},
   "outputs": [],
   "source": [
    "# Ignore warning and debug messages\n",
    "# NB: If things go wrong, you can turn the debugger on and turn the warnings filter off.\n",
    "import warnings\n",
    "warnings.catch_warnings()\n",
    "warnings.simplefilter(\"ignore\")\n",
    "from satpy.utils import debug_off; debug_off()"
   ]
  },
  {
   "cell_type": "markdown",
   "id": "c79a765c",
   "metadata": {},
   "source": [
    "As before, we can read in the appropriate files using SatPy's utility function:"
   ]
  },
  {
   "cell_type": "code",
   "execution_count": 2,
   "id": "781d9cbe",
   "metadata": {},
   "outputs": [],
   "source": [
    "from satpy import find_files_and_readers\n",
    "\n",
    "path_msi = './data/msi/'\n",
    "files = find_files_and_readers(reader='msi_safe',\n",
    "                               base_dir=path_msi)"
   ]
  },
  {
   "cell_type": "markdown",
   "id": "b44fd8d2",
   "metadata": {},
   "source": [
    "Sentinel-2 MSI files come in the `.SAFE` file format, which is actually series of directories containing geolocated files (.jp2) and metadata (.xml). To view the filenames we can print the files as before:"
   ]
  },
  {
   "cell_type": "code",
   "execution_count": 3,
   "id": "93afb13e",
   "metadata": {},
   "outputs": [
    {
     "name": "stdout",
     "output_type": "stream",
     "text": [
      "{'msi_safe': ['./data/msi/S2B_MSIL1C_20230417T230139_N0509_R015_T57FVV_20230417T234656.SAFE/GRANULE/L1C_T57FVV_A031930_20230417T230134/MTD_TL.xml', './data/msi/S2B_MSIL1C_20230417T230139_N0509_R015_T57FVV_20230417T234656.SAFE/MTD_MSIL1C.xml', './data/msi/S2B_MSIL1C_20230417T230139_N0509_R015_T57FVV_20230417T234656.SAFE/GRANULE/L1C_T57FVV_A031930_20230417T230134/IMG_DATA/T57FVV_20230417T230139_B04.jp2', './data/msi/S2B_MSIL1C_20230417T230139_N0509_R015_T57FVV_20230417T234656.SAFE/GRANULE/L1C_T57FVV_A031930_20230417T230134/IMG_DATA/T57FVV_20230417T230139_B06.jp2', './data/msi/S2B_MSIL1C_20230417T230139_N0509_R015_T57FVV_20230417T234656.SAFE/GRANULE/L1C_T57FVV_A031930_20230417T230134/IMG_DATA/T57FVV_20230417T230139_B8A.jp2', './data/msi/S2B_MSIL1C_20230417T230139_N0509_R015_T57FVV_20230417T234656.SAFE/GRANULE/L1C_T57FVV_A031930_20230417T230134/IMG_DATA/T57FVV_20230417T230139_B07.jp2', './data/msi/S2B_MSIL1C_20230417T230139_N0509_R015_T57FVV_20230417T234656.SAFE/GRANULE/L1C_T57FVV_A031930_20230417T230134/IMG_DATA/T57FVV_20230417T230139_TCI.jp2', './data/msi/S2B_MSIL1C_20230417T230139_N0509_R015_T57FVV_20230417T234656.SAFE/GRANULE/L1C_T57FVV_A031930_20230417T230134/IMG_DATA/T57FVV_20230417T230139_B03.jp2', './data/msi/S2B_MSIL1C_20230417T230139_N0509_R015_T57FVV_20230417T234656.SAFE/GRANULE/L1C_T57FVV_A031930_20230417T230134/IMG_DATA/T57FVV_20230417T230139_B10.jp2', './data/msi/S2B_MSIL1C_20230417T230139_N0509_R015_T57FVV_20230417T234656.SAFE/GRANULE/L1C_T57FVV_A031930_20230417T230134/IMG_DATA/T57FVV_20230417T230139_B01.jp2', './data/msi/S2B_MSIL1C_20230417T230139_N0509_R015_T57FVV_20230417T234656.SAFE/GRANULE/L1C_T57FVV_A031930_20230417T230134/IMG_DATA/T57FVV_20230417T230139_B02.jp2', './data/msi/S2B_MSIL1C_20230417T230139_N0509_R015_T57FVV_20230417T234656.SAFE/GRANULE/L1C_T57FVV_A031930_20230417T230134/IMG_DATA/T57FVV_20230417T230139_B05.jp2', './data/msi/S2B_MSIL1C_20230417T230139_N0509_R015_T57FVV_20230417T234656.SAFE/GRANULE/L1C_T57FVV_A031930_20230417T230134/IMG_DATA/T57FVV_20230417T230139_B08.jp2', './data/msi/S2B_MSIL1C_20230417T230139_N0509_R015_T57FVV_20230417T234656.SAFE/GRANULE/L1C_T57FVV_A031930_20230417T230134/IMG_DATA/T57FVV_20230417T230139_B12.jp2', './data/msi/S2B_MSIL1C_20230417T230139_N0509_R015_T57FVV_20230417T234656.SAFE/GRANULE/L1C_T57FVV_A031930_20230417T230134/IMG_DATA/T57FVV_20230417T230139_B09.jp2', './data/msi/S2B_MSIL1C_20230417T230139_N0509_R015_T57FVV_20230417T234656.SAFE/GRANULE/L1C_T57FVV_A031930_20230417T230134/IMG_DATA/T57FVV_20230417T230139_B11.jp2']}\n"
     ]
    }
   ],
   "source": [
    "# Check the list of files\n",
    "print(files)"
   ]
  },
  {
   "cell_type": "markdown",
   "id": "633fe5bd",
   "metadata": {},
   "source": [
    "This looks like a bit of a mess but with SatPy's `Scene` object, we can make sense of what we have:"
   ]
  },
  {
   "cell_type": "code",
   "execution_count": 4,
   "id": "c1ba43d5",
   "metadata": {},
   "outputs": [
    {
     "data": {
      "text/plain": [
       "['B01',\n",
       " 'B02',\n",
       " 'B03',\n",
       " 'B04',\n",
       " 'B05',\n",
       " 'B06',\n",
       " 'B07',\n",
       " 'B08',\n",
       " 'B09',\n",
       " 'B10',\n",
       " 'B11',\n",
       " 'B12',\n",
       " 'B8A',\n",
       " 'satellite_azimuth_angle',\n",
       " 'satellite_zenith_angle',\n",
       " 'solar_azimuth_angle',\n",
       " 'solar_zenith_angle']"
      ]
     },
     "execution_count": 4,
     "metadata": {},
     "output_type": "execute_result"
    }
   ],
   "source": [
    "from satpy import Scene\n",
    "\n",
    "scn = Scene(files)\n",
    "scn.available_dataset_names()"
   ]
  },
  {
   "cell_type": "markdown",
   "id": "3edd796a",
   "metadata": {},
   "source": [
    "Here we can see the 13 spectral channels that MSI has, along with some infromation regarding the sensor geometries. Let's get some more information about a particular band:"
   ]
  },
  {
   "cell_type": "code",
   "execution_count": 5,
   "id": "e4c33613",
   "metadata": {},
   "outputs": [
    {
     "name": "stdout",
     "output_type": "stream",
     "text": [
      "<xarray.DataArray (y: 5490, x: 5490)>\n",
      "dask.array<mul, shape=(5490, 5490), dtype=float64, chunksize=(4096, 4096), chunktype=numpy.ndarray>\n",
      "Coordinates:\n",
      "    band         int64 1\n",
      "  * x            (x) float64 4e+05 4e+05 4e+05 ... 5.097e+05 5.097e+05 5.098e+05\n",
      "  * y            (y) float64 4e+06 4e+06 4e+06 ... 3.89e+06 3.89e+06 3.89e+06\n",
      "    spatial_ref  int64 0\n",
      "    crs          object PROJCRS[\"WGS 84 / UTM zone 57S\",BASEGEOGCRS[\"WGS 84\",...\n",
      "Attributes: (12/16)\n",
      "    name:                 B8A\n",
      "    sensor:               MSI\n",
      "    wavelength:           0.865 µm (0.855-0.875 µm)\n",
      "    resolution:           20\n",
      "    calibration:          reflectance\n",
      "    file_type:            safe_granule\n",
      "    ...                   ...\n",
      "    start_time:           2023-04-17 23:01:39\n",
      "    end_time:             2023-04-17 23:01:39\n",
      "    reader:               msi_safe\n",
      "    area:                 Area ID: 57FVV\\nDescription: On-the-fly area\\nProje...\n",
      "    _satpy_id:            DataID(name='B8A', wavelength=WavelengthRange(min=0...\n",
      "    ancillary_variables:  []\n"
     ]
    }
   ],
   "source": [
    "scn.load(['B8A'])\n",
    "print(scn)"
   ]
  },
  {
   "cell_type": "markdown",
   "id": "a5f39f02",
   "metadata": {},
   "source": [
    "We can also look at the available composite names as before:"
   ]
  },
  {
   "cell_type": "code",
   "execution_count": 6,
   "id": "9eb2222d",
   "metadata": {},
   "outputs": [
    {
     "data": {
      "text/plain": [
       "['cloud_phase',\n",
       " 'cloud_phase_raw',\n",
       " 'day_essl_colorized_low_level_moisture',\n",
       " 'day_essl_low_level_moisture',\n",
       " 'essl_colorized_low_level_moisture',\n",
       " 'essl_low_level_moisture',\n",
       " 'natural_color',\n",
       " 'true_color',\n",
       " 'true_color_desert',\n",
       " 'true_color_land',\n",
       " 'true_color_marine_clean',\n",
       " 'true_color_marine_tropical',\n",
       " 'true_color_raw']"
      ]
     },
     "execution_count": 6,
     "metadata": {},
     "output_type": "execute_result"
    }
   ],
   "source": [
    "scn.available_composite_names()"
   ]
  },
  {
   "cell_type": "markdown",
   "id": "83b8e7e7",
   "metadata": {},
   "source": [
    "Let's see what a true colour image looks like at the native MSI resolution:"
   ]
  },
  {
   "cell_type": "code",
   "execution_count": null,
   "id": "16e05291",
   "metadata": {},
   "outputs": [],
   "source": [
    "from dask.diagnostics import ProgressBar\n",
    "\n",
    "scn.load(['true_color'])\n",
    "lcn = scn.resample(scn.finest_area())\n",
    "\n",
    "with ProgressBar():\n",
    "    lcn.save_dataset('true_color', tiled=True, filename='./data/geotiff/msi_tc.tif')"
   ]
  },
  {
   "cell_type": "markdown",
   "id": "707454b2",
   "metadata": {},
   "source": [
    "Now, let's resample to the same area that we defined before for MODIS and AHI, so that we can get some appreciation for the differences in spatial resolution among the three sensors:"
   ]
  },
  {
   "cell_type": "code",
   "execution_count": 8,
   "id": "a118fa75",
   "metadata": {},
   "outputs": [
    {
     "name": "stdout",
     "output_type": "stream",
     "text": [
      "[########################################] | 100% Completed | 23.32 s\n"
     ]
    }
   ],
   "source": [
    "from dask.diagnostics import ProgressBar\n",
    "from pyresample import create_area_def\n",
    "\n",
    "# extent = [lonmin, lonmax, latmin, latmax]\n",
    "extent = [158.6, 159.2, -54.8, -54.4]\n",
    "area_def = create_area_def('Macquarie Island', \"+proj=eqc\", units=\"degrees\",\n",
    "                           area_extent=(extent[0], extent[2], extent[1], extent[3]), resolution=0.0001)\n",
    "scn.load(['true_color'])\n",
    "lcn = scn.resample(area_def)\n",
    "\n",
    "with ProgressBar():\n",
    "    lcn.save_dataset('true_color', tiled=True, filename='./data/geotiff/msi_mac_island_tc.tif')"
   ]
  },
  {
   "cell_type": "markdown",
   "id": "b2a3baec",
   "metadata": {},
   "source": [
    "As we can see, the MSI data has very high spatial resolution and could be used to study vegetation changes on the island. One comment metric used to assess vegetation health is the Normalised Difference Vegetation Index. To compute the NDVI, we do:"
   ]
  },
  {
   "cell_type": "code",
   "execution_count": null,
   "id": "ac696b2b",
   "metadata": {},
   "outputs": [],
   "source": [
    "scn.load(['B04', 'B08'])\n",
    "lcn = scn.resample(area_def)\n",
    "# Get the RED and NIR data arrays\n",
    "red = lcn['B04'].values\n",
    "nir = lcn['B08'].values\n",
    "# Compute NDVI\n",
    "ndvi = (nir-red) / (nir+red)"
   ]
  },
  {
   "cell_type": "markdown",
   "id": "f5e47b5b",
   "metadata": {},
   "source": [
    "Finally, we can plot the NDVI using standard matplotlib methods:"
   ]
  },
  {
   "cell_type": "code",
   "execution_count": null,
   "id": "52fa379a",
   "metadata": {},
   "outputs": [],
   "source": [
    "# Plot the data\n",
    "import matplotlib.pyplot as plt\n",
    "\n",
    "plt.imshow(ndvi, cmap='YlGn', vmin=0, vmax=1)\n",
    "plt.show()"
   ]
  },
  {
   "cell_type": "markdown",
   "id": "c4b4780e",
   "metadata": {},
   "source": [
    "## Exercise\n",
    "Can you compute and plot a different spectral index over Macquarie Island? Some examples are here: https://giscrack.com/list-of-spectral-indices-for-sentinel-and-landsat/"
   ]
  }
 ],
 "metadata": {
  "kernelspec": {
   "display_name": "Python 3 (ipykernel)",
   "language": "python",
   "name": "python3"
  },
  "language_info": {
   "codemirror_mode": {
    "name": "ipython",
    "version": 3
   },
   "file_extension": ".py",
   "mimetype": "text/x-python",
   "name": "python",
   "nbconvert_exporter": "python",
   "pygments_lexer": "ipython3",
   "version": "3.11.3"
  }
 },
 "nbformat": 4,
 "nbformat_minor": 5
}
