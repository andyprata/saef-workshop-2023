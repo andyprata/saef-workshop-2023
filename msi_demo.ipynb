{
 "cells": [
  {
   "cell_type": "markdown",
   "id": "27b74b86",
   "metadata": {},
   "source": [
    "## Sentinel-2 Multi-Spectral Imager (MSI) Demo"
   ]
  },
  {
   "cell_type": "code",
   "execution_count": null,
   "id": "259f7b6b",
   "metadata": {},
   "outputs": [],
   "source": [
    "# Ignore warning and debug messages\n",
    "# NB: If things go wrong, you can turn the debugger on and turn the warnings filter off.\n",
    "import warnings\n",
    "warnings.catch_warnings()\n",
    "warnings.simplefilter(\"ignore\")\n",
    "from satpy.utils import debug_off; debug_off()\n",
    "\n",
    "\n",
    "from satpy import find_files_and_readers\n",
    "\n",
    "path_msi = './data/msi/'\n",
    "files = find_files_and_readers(reader='msi_safe',\n",
    "                               base_dir=path_msi)\n",
    "\n",
    "# Check the list of files\n",
    "files"
   ]
  },
  {
   "cell_type": "code",
   "execution_count": null,
   "id": "c1ba43d5",
   "metadata": {},
   "outputs": [],
   "source": [
    "from satpy import Scene\n",
    "\n",
    "\n",
    "scn = Scene(files)\n",
    "scn.available_dataset_names()"
   ]
  },
  {
   "cell_type": "code",
   "execution_count": null,
   "id": "9eb2222d",
   "metadata": {},
   "outputs": [],
   "source": [
    "scn.available_composite_names()"
   ]
  },
  {
   "cell_type": "code",
   "execution_count": null,
   "id": "18ab42fc",
   "metadata": {},
   "outputs": [],
   "source": [
    "scn.load(scn.available_dataset_names())"
   ]
  },
  {
   "cell_type": "code",
   "execution_count": null,
   "id": "a118fa75",
   "metadata": {},
   "outputs": [],
   "source": [
    "from pyresample import create_area_def\n",
    "\n",
    "# extent = [lonmin, lonmax, latmin, latmax]\n",
    "extent = [158.6, 159.2, -54.8, -54.4]\n",
    "area_def = create_area_def('Macquarie Island', \"+proj=eqc\", units=\"degrees\",\n",
    "                           area_extent=(extent[0], extent[2], extent[1], extent[3]), resolution=0.0001)\n",
    "\n",
    "composite_name = 'true_color'\n",
    "scn.load([composite_name])\n",
    "lcn = scn.resample(area_def)\n",
    "# lcn = scn.resample(resample='native')\n",
    "lcn.show(composite_name)"
   ]
  },
  {
   "cell_type": "code",
   "execution_count": null,
   "id": "ac696b2b",
   "metadata": {},
   "outputs": [],
   "source": [
    "# Get the RED and NIR data arrays\n",
    "RED = lcn['B04'].values\n",
    "NIR = lcn['B08'].values\n",
    "# Compute NDVI\n",
    "NDVI = (NIR-RED) / (NIR+RED)"
   ]
  },
  {
   "cell_type": "code",
   "execution_count": null,
   "id": "52fa379a",
   "metadata": {},
   "outputs": [],
   "source": [
    "# Plot the data\n",
    "%matplotlib widget\n",
    "import matplotlib.pyplot as plt\n",
    "\n",
    "plt.imshow(NDVI, cmap='YlGn', vmin=0, vmax=1)\n",
    "plt.show()\n"
   ]
  },
  {
   "cell_type": "code",
   "execution_count": null,
   "id": "d53d7196",
   "metadata": {},
   "outputs": [],
   "source": []
  }
 ],
 "metadata": {
  "kernelspec": {
   "display_name": "Python 3 (ipykernel)",
   "language": "python",
   "name": "python3"
  },
  "language_info": {
   "codemirror_mode": {
    "name": "ipython",
    "version": 3
   },
   "file_extension": ".py",
   "mimetype": "text/x-python",
   "name": "python",
   "nbconvert_exporter": "python",
   "pygments_lexer": "ipython3",
   "version": "3.11.3"
  }
 },
 "nbformat": 4,
 "nbformat_minor": 5
}
