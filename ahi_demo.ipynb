{
 "cells": [
  {
   "cell_type": "markdown",
   "id": "6b4f271a",
   "metadata": {},
   "source": [
    "## Advanced Himawari Imager (AHI) Demo\n",
    "\n",
    "In this example we will learn how to read in and visualise data from the Advanced Himawari Imager."
   ]
  },
  {
   "cell_type": "code",
   "execution_count": null,
   "id": "de0bdba5",
   "metadata": {},
   "outputs": [],
   "source": [
    "# Ignore warning and debug messages\n",
    "# NB: If things go wrong, you can turn the debugger on and turn the warnings filter off.\n",
    "import warnings\n",
    "warnings.catch_warnings()\n",
    "warnings.simplefilter(\"ignore\")\n",
    "from satpy.utils import debug_off; debug_off()\n",
    "\n",
    "\n",
    "from satpy import Scene\n",
    "from satpy import available_readers\n",
    "from datetime import datetime\n",
    "from glob import glob"
   ]
  },
  {
   "cell_type": "markdown",
   "id": "d43d9ecc",
   "metadata": {},
   "source": [
    "Whenever we use SatPy, we will always use the Scene object to read in various satellite datasets. Xarray is working under the hood to interpret the various file formats that satellite data comes in.\n",
    "\n",
    "When SatPy is first installed, not all of the supported satellite data 'readers' are included. So we can first look at what comes from a standard install of SatPy using the `available_readers()` object (imported above)."
   ]
  },
  {
   "cell_type": "code",
   "execution_count": null,
   "id": "927d15d5",
   "metadata": {},
   "outputs": [],
   "source": [
    "print(available_readers())"
   ]
  },
  {
   "cell_type": "markdown",
   "id": "908a00df",
   "metadata": {},
   "source": [
    "Above we can see that `available_readers()` returns a list of the available satellite instrument readers that your SatPy install can handle. For reference, all of the supported readers can be viewed in the table from the SatPy user guide: https://satpy.readthedocs.io/en/stable/index.html#reader-table.\n",
    "\n",
    "Once we have the data downloaded, we tell SatPy where to find the appropriate files with the helper function `find_files_and_readers`"
   ]
  },
  {
   "cell_type": "code",
   "execution_count": null,
   "id": "63931f55",
   "metadata": {},
   "outputs": [],
   "source": [
    "from satpy import find_files_and_readers\n",
    "\n",
    "path_ahi = './data/ahi/'\n",
    "files = find_files_and_readers(start_time=datetime(2023, 4, 17, 23), \n",
    "                               end_time=datetime(2023, 4, 17, 23, 10),\n",
    "                               reader='ahi_hsd',\n",
    "                               base_dir=path_ahi)\n",
    "\n",
    "# Check the list of files\n",
    "print(files)"
   ]
  },
  {
   "cell_type": "markdown",
   "id": "e0d73484",
   "metadata": {},
   "source": [
    "The filename tells us a bit about the data we're looking at. For example, `H09` means it's Himawari-9, `20230417_2300` is the time and date in `YYYYmmdd_HHMM` format, `B01` means it's band (or channel) `R10` means 1 km resolution and `S0110` means the file corresponds to the first segment of the 10 segments that make up the full disk. Once we have the file names, we can load the data into the Scene object:"
   ]
  },
  {
   "cell_type": "code",
   "execution_count": null,
   "id": "4c369aab",
   "metadata": {},
   "outputs": [],
   "source": [
    "# Load data into Scene object\n",
    "scn = Scene(files)"
   ]
  },
  {
   "cell_type": "markdown",
   "id": "1e057f18",
   "metadata": {},
   "source": [
    "We can print out some initial information regarding the various channels we have available with:"
   ]
  },
  {
   "cell_type": "code",
   "execution_count": null,
   "id": "386da2cb",
   "metadata": {},
   "outputs": [],
   "source": [
    "scn.available_dataset_ids()"
   ]
  },
  {
   "cell_type": "markdown",
   "id": "75a59c59",
   "metadata": {},
   "source": [
    "We can also just list the bands in a list with:"
   ]
  },
  {
   "cell_type": "code",
   "execution_count": null,
   "id": "cf7335f9",
   "metadata": {},
   "outputs": [],
   "source": [
    "scn.available_dataset_names()"
   ]
  },
  {
   "cell_type": "markdown",
   "id": "38b3cfab",
   "metadata": {},
   "source": [
    "And we can check the available composites with:"
   ]
  },
  {
   "cell_type": "code",
   "execution_count": null,
   "id": "fb42a7f0",
   "metadata": {},
   "outputs": [],
   "source": [
    "scn.available_composite_names()"
   ]
  },
  {
   "cell_type": "markdown",
   "id": "dcfb2976",
   "metadata": {},
   "source": [
    "If we want to interrogate and process the data, we must first load the channels we are interested in using the Scene object. We can quickly load all of the channels with:"
   ]
  },
  {
   "cell_type": "code",
   "execution_count": null,
   "id": "44eeef27",
   "metadata": {},
   "outputs": [],
   "source": [
    "scn.load(scn.available_dataset_names())"
   ]
  },
  {
   "cell_type": "markdown",
   "id": "942c5ebe",
   "metadata": {},
   "source": [
    "Now that we have the data loaded, we can view more metadata using the print function:"
   ]
  },
  {
   "cell_type": "code",
   "execution_count": null,
   "id": "5f4e9f14",
   "metadata": {},
   "outputs": [],
   "source": [
    "print(scn)"
   ]
  },
  {
   "cell_type": "markdown",
   "id": "393ec274",
   "metadata": {},
   "source": [
    "If we want to view the data, we can use the `show()` method:"
   ]
  },
  {
   "cell_type": "code",
   "execution_count": null,
   "id": "0e765106",
   "metadata": {},
   "outputs": [],
   "source": [
    "scn.show('B01')"
   ]
  },
  {
   "cell_type": "markdown",
   "id": "d3747a71",
   "metadata": {},
   "source": [
    "Say we wanted to look at different channels side-by-side we could do"
   ]
  },
  {
   "cell_type": "code",
   "execution_count": null,
   "id": "36b6ccc3",
   "metadata": {},
   "outputs": [],
   "source": [
    "import matplotlib.pyplot as plt\n",
    "\n",
    "fig = plt.figure(figsize=(10, 5))\n",
    "ax1 = fig.add_subplot(131)\n",
    "ax2 = fig.add_subplot(132)\n",
    "ax3 = fig.add_subplot(133)\n",
    "\n",
    "ax1.imshow(scn['B01'], cmap='Greys_r')\n",
    "ax1.set_title('B01')\n",
    "\n",
    "ax2.imshow(scn['B14'], cmap='Greys')\n",
    "ax2.set_title('B14')\n",
    "\n",
    "ax3.imshow(scn['B10'], cmap='Greys')\n",
    "ax3.set_title('B10')\n",
    "\n",
    "fig.tight_layout()\n",
    "plt.show()\n"
   ]
  },
  {
   "cell_type": "markdown",
   "id": "cc6b5179",
   "metadata": {},
   "source": [
    "Now if we want to make a pretty picture, we can call a composite. Let's first try the `true_color_raw` composite, which doesn't apply any atmospheric correction or colour enhancments:"
   ]
  },
  {
   "cell_type": "code",
   "execution_count": null,
   "id": "706b6b78",
   "metadata": {
    "scrolled": true
   },
   "outputs": [],
   "source": [
    "scn.load(['true_color_raw'])\n",
    "# Now that the data must be resampled because the R, G and B channels are sampled at different spatial resolutions.\n",
    "lcn = scn.resample(scn.coarsest_area())"
   ]
  },
  {
   "cell_type": "code",
   "execution_count": null,
   "id": "bf7bab84",
   "metadata": {},
   "outputs": [],
   "source": [
    "lcn.show('true_color_raw')"
   ]
  },
  {
   "cell_type": "markdown",
   "id": "2b1dc16e",
   "metadata": {},
   "source": [
    "Now we can look at a specific area using a series of pre-defined regional areas that are built into SatPy. Let's look at the `true_color` composite (which includes an atmospheric correction and colour enhancement) over Australia."
   ]
  },
  {
   "cell_type": "code",
   "execution_count": null,
   "id": "b1b88b37",
   "metadata": {},
   "outputs": [],
   "source": [
    "scn.load(['true_color'])"
   ]
  },
  {
   "cell_type": "markdown",
   "id": "989ae3db",
   "metadata": {},
   "source": [
    "The pre-defined areas can be found in your `/etc/areas.yaml` file."
   ]
  },
  {
   "cell_type": "code",
   "execution_count": null,
   "id": "af1a08da",
   "metadata": {},
   "outputs": [],
   "source": [
    "! cat /Users/apra0062/mambaforge/envs/satpy-env/lib/python3.11/site-packages/satpy/etc/areas.yaml"
   ]
  },
  {
   "cell_type": "code",
   "execution_count": null,
   "id": "78a11aad",
   "metadata": {},
   "outputs": [],
   "source": [
    "lcn = scn.resample('australia')"
   ]
  },
  {
   "cell_type": "code",
   "execution_count": null,
   "id": "0d2811f4",
   "metadata": {},
   "outputs": [],
   "source": [
    "lcn.show('true_color')"
   ]
  },
  {
   "cell_type": "markdown",
   "id": "46289d37",
   "metadata": {},
   "source": [
    "Now let's say we're interested in a particular area, not included in the SatPy `areas.yaml` file. Often we only know the latitude/longitude extents. Pyresample uses the PROJ conventions to define map projections. More information can be found here: https://proj.org/. We can create a resampling object, known as an `area_definition`, which we can use to resample the AHI full disk to. For example:"
   ]
  },
  {
   "cell_type": "code",
   "execution_count": null,
   "id": "a7d11632",
   "metadata": {},
   "outputs": [],
   "source": [
    "from pyresample import create_area_def\n",
    "\n",
    "# Let's look at a region that covers Macquarie Isalnd\n",
    "extent = [158.6, 159.2, -54.8, -54.4]\n",
    "area_def = create_area_def('Macquarie Island', \"+proj=eqc\", units=\"degrees\",\n",
    "                           area_extent=(extent[0], extent[2], extent[1], extent[3]), resolution=0.0001)\n",
    "# Resample to custom area def\n",
    "lcn = scn.resample(area_def)\n",
    "lcn.show('true_color')"
   ]
  },
  {
   "cell_type": "markdown",
   "id": "0cf4c0be",
   "metadata": {},
   "source": [
    "Now we can see Macquarie Island just looks like a collection of blurred pixels in the AHI data. This is because the spatial resolution of the visible pixels is 1 km. In the MODIS and MSI examples we'll see how this improves with better spatial resolutions from the polar orbiting sensors."
   ]
  },
  {
   "cell_type": "markdown",
   "id": "ff7676e2",
   "metadata": {},
   "source": [
    "## Exercise\n",
    "AHI covers an entire Earth's disk. Can you reproject the AHI data to zoom into another regional area of interest? Maybe Japan or how about over South Australia?"
   ]
  }
 ],
 "metadata": {
  "kernelspec": {
   "display_name": "Python 3 (ipykernel)",
   "language": "python",
   "name": "python3"
  },
  "language_info": {
   "codemirror_mode": {
    "name": "ipython",
    "version": 3
   },
   "file_extension": ".py",
   "mimetype": "text/x-python",
   "name": "python",
   "nbconvert_exporter": "python",
   "pygments_lexer": "ipython3",
   "version": "3.11.3"
  }
 },
 "nbformat": 4,
 "nbformat_minor": 5
}
